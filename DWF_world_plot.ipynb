{
 "cells": [
  {
   "cell_type": "code",
   "execution_count": null,
   "metadata": {},
   "outputs": [],
   "source": [
    "import numpy as np\n",
    "from mpl_toolkits.basemap import Basemap\n",
    "import matplotlib.pyplot as plt"
   ]
  },
  {
   "cell_type": "code",
   "execution_count": null,
   "metadata": {},
   "outputs": [],
   "source": [
    "def make_DWF_globe(observatories, outdir, max_angle=10, step_size=1):\n",
    "    \"\"\" Creates images (pngs) of the globe with the \n",
    "    locations of DWF observatories. These can be combined\n",
    "    into a fancy movie.\n",
    "    \n",
    "    Parameters\n",
    "    ----------\n",
    "    \n",
    "    observatories : dictionary\n",
    "        The dictionary of observatories with coords, \n",
    "        colours and markers.\n",
    "        \n",
    "        e.g {\"MeerKAT\" : [(21.444819, -30.712176), \"red\", \"D\"]}\n",
    "        \n",
    "    outdir : string\n",
    "        The output directory for the images\n",
    "        \n",
    "    max_angle : integer\n",
    "        The total angle of rotation in degrees for the final plot \n",
    "    \n",
    "    step_size : float or integer\n",
    "        The angular size in degrees between each frame\n",
    "    \n",
    "    \"\"\"\n",
    "    \n",
    "    # Coordinate, Colour and Marker indexes in the dictionary\n",
    "    cood_idx = 0\n",
    "    colr_idx = 1\n",
    "    mark_idx = 2\n",
    "\n",
    "    # The x, y offsets for the Observatory labels\n",
    "    labx_offset = 2\n",
    "    laby_offset = 2\n",
    "\n",
    "    # Number of frames to make\n",
    "    num_frames = int(max_angle / step_size)\n",
    "\n",
    "    for i in range(num_frames):\n",
    "        plt.figure(figsize=(8, 6), dpi=200)\n",
    "        \n",
    "        # m is the map Basemap oject\n",
    "        m = Basemap(projection=\"ortho\", lat_0=0, lon_0=step_size*i)\n",
    "        \n",
    "        # Use bluemarble background\n",
    "        # Can also use m.shadedrelief() for a more atlas feel\n",
    "        m.bluemarble()\n",
    "\n",
    "        for label in observatories.keys():\n",
    "            # Get x, y corrds from dictionary and convert them to map coords\n",
    "            x, y = m(observatories[label][cood_idx][0], observatories[label][cood_idx][1])\n",
    "            \n",
    "            # Plot Observatories using markers and colours from dictionary\n",
    "            m.scatter(x, y, marker=observatories[label][mark_idx], color=observatories[label][colr_idx])\n",
    "        \n",
    "            # Create Observatory label positions\n",
    "            labx, laby = m(observatories[label][cood_idx][0] + labx_offset, \n",
    "                           observatories[label][cood_idx][1] + laby_offset)\n",
    "            # Plot labels\n",
    "            plt.annotate(label, xy=(labx, laby), color='white')\n",
    "\n",
    "\n",
    "        plt.savefig(\"{0}/DWF_globe_plot_{1:03}\".format(outdir, i),\n",
    "                    transparent=True)\n",
    "        plt.clf()\n",
    "    print(\"COMPLETE\")"
   ]
  },
  {
   "cell_type": "code",
   "execution_count": null,
   "metadata": {},
   "outputs": [],
   "source": [
    "outdir = \"/Users/abatten/saraplots\"\n",
    "\n",
    "observatories = {\"MeerKAT\" : [(21.444819, -30.712176), \"red\", \"D\"],\n",
    "                 \"MWA\" : [(116.670866, -26.702681), \"green\", \"o\"],\n",
    "                 \"VIRGO\" : [(10.505021, 43.631456), \"magenta\", \"x\"],\n",
    "                 \"Etelman\" : [(-64.956400, 18.352395), \"cyan\", \"o\"],\n",
    "                 \"LIGO-LA\" : [(-90.772039, 30.564180), \"cyan\", \"x\"]\n",
    "                }"
   ]
  },
  {
   "cell_type": "code",
   "execution_count": null,
   "metadata": {},
   "outputs": [],
   "source": [
    "make_DWF_globe(observatories, outdir, max_angle=360, step_size=1)"
   ]
  }
 ],
 "metadata": {
  "kernelspec": {
   "display_name": "Python 3",
   "language": "python",
   "name": "python3"
  },
  "language_info": {
   "codemirror_mode": {
    "name": "ipython",
    "version": 3
   },
   "file_extension": ".py",
   "mimetype": "text/x-python",
   "name": "python",
   "nbconvert_exporter": "python",
   "pygments_lexer": "ipython3",
   "version": "3.6.4"
  }
 },
 "nbformat": 4,
 "nbformat_minor": 2
}
